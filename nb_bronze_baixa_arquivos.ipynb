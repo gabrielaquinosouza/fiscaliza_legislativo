{
 "cells": [
  {
   "cell_type": "code",
   "execution_count": 0,
   "metadata": {
    "application/vnd.databricks.v1+cell": {
     "cellMetadata": {
      "byteLimit": 2048000,
      "rowLimit": 10000
     },
     "inputWidgets": {},
     "nuid": "5a848883-6409-4d29-b3d3-e04ac15884cc",
     "showTitle": false,
     "tableResultSettingsMap": {},
     "title": ""
    }
   },
   "outputs": [],
   "source": [
    "from datetime import datetime\n",
    "import urllib.request"
   ]
  },
  {
   "cell_type": "code",
   "execution_count": 0,
   "metadata": {
    "application/vnd.databricks.v1+cell": {
     "cellMetadata": {
      "byteLimit": 2048000,
      "rowLimit": 10000
     },
     "inputWidgets": {},
     "nuid": "a4e4e374-a8e7-43ff-83a1-55ac6733f356",
     "showTitle": false,
     "tableResultSettingsMap": {},
     "title": ""
    }
   },
   "outputs": [],
   "source": [
    "# Catálogo databricks camada bronze\n",
    "\n",
    "catalogo =  \"fiscaliza_legislativo\"\n",
    "schema = \"bronze\"\n",
    "volume = \"arquivos\"\n",
    "diretorio = \"despesas_deputados\"\n",
    "anoInicio = 2020\n",
    "anoAtual = int(datetime.now().year)\n",
    "\n",
    "PATH_VOLUME = f\"/Volumes/{catalogo}/{schema}/{volume}/{diretorio}\""
   ]
  },
  {
   "cell_type": "markdown",
   "metadata": {
    "application/vnd.databricks.v1+cell": {
     "cellMetadata": {},
     "inputWidgets": {},
     "nuid": "b422361e-e37b-4483-9b45-37b27cd87987",
     "showTitle": false,
     "tableResultSettingsMap": {},
     "title": ""
    }
   },
   "source": [
    "# Inicia execução"
   ]
  },
  {
   "cell_type": "code",
   "execution_count": 0,
   "metadata": {
    "application/vnd.databricks.v1+cell": {
     "cellMetadata": {
      "byteLimit": 2048000,
      "rowLimit": 10000
     },
     "inputWidgets": {},
     "nuid": "571f77fe-8399-43f9-bb0c-025f8f2dd9f8",
     "showTitle": false,
     "tableResultSettingsMap": {},
     "title": ""
    }
   },
   "outputs": [],
   "source": [
    "\n",
    "TInicio = datetime.now()\n",
    "print(TInicio)"
   ]
  },
  {
   "cell_type": "markdown",
   "metadata": {
    "application/vnd.databricks.v1+cell": {
     "cellMetadata": {},
     "inputWidgets": {},
     "nuid": "2122beed-fe0e-49b5-b9ca-68c026056c71",
     "showTitle": false,
     "tableResultSettingsMap": {},
     "title": ""
    }
   },
   "source": [
    "## Criação de Esquema e Volume"
   ]
  },
  {
   "cell_type": "code",
   "execution_count": 0,
   "metadata": {
    "application/vnd.databricks.v1+cell": {
     "cellMetadata": {
      "byteLimit": 2048000,
      "rowLimit": 10000
     },
     "inputWidgets": {},
     "nuid": "ccc6cd18-c22e-4c3b-870f-ac4aaaa56501",
     "showTitle": false,
     "tableResultSettingsMap": {},
     "title": ""
    }
   },
   "outputs": [],
   "source": [
    "# Cria Schema Bronze\n",
    "\n",
    "SQL =  f\"\"\"\n",
    "CREATE SCHEMA IF NOT EXISTS {catalogo}.{schema}\n",
    "\"\"\"\n",
    "spark.sql(SQL)"
   ]
  },
  {
   "cell_type": "code",
   "execution_count": 0,
   "metadata": {
    "application/vnd.databricks.v1+cell": {
     "cellMetadata": {
      "byteLimit": 2048000,
      "rowLimit": 10000
     },
     "inputWidgets": {},
     "nuid": "59668fd6-e9fa-4a5f-955a-0da004da2520",
     "showTitle": false,
     "tableResultSettingsMap": {},
     "title": ""
    }
   },
   "outputs": [],
   "source": [
    "# Cria Volume arquivos\n",
    "\n",
    "SQL =  f\"\"\"\n",
    "CREATE VOLUME IF NOT EXISTS {catalogo}.{schema}.{volume}\n",
    "\"\"\"\n",
    "spark.sql(SQL)"
   ]
  },
  {
   "cell_type": "code",
   "execution_count": 0,
   "metadata": {
    "application/vnd.databricks.v1+cell": {
     "cellMetadata": {
      "byteLimit": 2048000,
      "rowLimit": 10000
     },
     "inputWidgets": {},
     "nuid": "26da5f0a-50a8-4e18-b88e-20f4c52c0976",
     "showTitle": false,
     "tableResultSettingsMap": {},
     "title": ""
    }
   },
   "outputs": [],
   "source": [
    "# Cria diretorio despesas_deputados\n",
    "\n",
    "dbutils.fs.mkdirs(PATH_VOLUME)"
   ]
  },
  {
   "cell_type": "markdown",
   "metadata": {
    "application/vnd.databricks.v1+cell": {
     "cellMetadata": {},
     "inputWidgets": {},
     "nuid": "5c608a03-c637-488b-90f0-500394aa9860",
     "showTitle": false,
     "tableResultSettingsMap": {},
     "title": ""
    }
   },
   "source": [
    "### Lista Arquivos do Volume"
   ]
  },
  {
   "cell_type": "code",
   "execution_count": 0,
   "metadata": {
    "application/vnd.databricks.v1+cell": {
     "cellMetadata": {
      "byteLimit": 2048000,
      "rowLimit": 10000
     },
     "inputWidgets": {},
     "nuid": "cb3d63a4-a686-453b-b5a3-82ae47afa9c8",
     "showTitle": false,
     "tableResultSettingsMap": {},
     "title": ""
    }
   },
   "outputs": [],
   "source": [
    "# Lista Arquivos da pasta despesas_deputados\n",
    "\n",
    "info_arquivos = dbutils.fs.ls(f\"/Volumes/{catalogo}/{schema}/{volume}/{diretorio}\")\n",
    "arquivos = [arquivo.name for arquivo in info_arquivos]"
   ]
  },
  {
   "cell_type": "markdown",
   "metadata": {
    "application/vnd.databricks.v1+cell": {
     "cellMetadata": {},
     "inputWidgets": {},
     "nuid": "69220efc-d6d6-4f23-9ccf-09ddfc43a5e6",
     "showTitle": false,
     "tableResultSettingsMap": {},
     "title": ""
    }
   },
   "source": [
    "## Baixa arquivos para Volume"
   ]
  },
  {
   "cell_type": "code",
   "execution_count": 0,
   "metadata": {
    "application/vnd.databricks.v1+cell": {
     "cellMetadata": {
      "byteLimit": 2048000,
      "rowLimit": 10000
     },
     "inputWidgets": {},
     "nuid": "7bc71610-7914-4827-976a-d438ded05cc7",
     "showTitle": false,
     "tableResultSettingsMap": {},
     "title": ""
    }
   },
   "outputs": [],
   "source": [
    "# Baixa apenas arquivos que ainda não estão no volume,e atualiza o arquivo do ano atual\n",
    "\n",
    "for ano in range(anoInicio, anoAtual+1):\n",
    "  url = f\"https://www.camara.leg.br/cotas/Ano-{ano}.xml.zip\"\n",
    "  path_destino = f\"/Volumes/{catalogo}/{schema}/{volume}/{diretorio}/{ano}.zip\"\n",
    "\n",
    "  if f\"{ano}.zip\" not in arquivos or ano == anoAtual:\n",
    "    print(f\"Baixando arquivo {ano}.zip\")\n",
    "    try:\n",
    "       urllib.request.urlretrieve(url, path_destino)\n",
    "       print(f\"Download concluído com sucesso: {path_destino}\")\n",
    "    except Exception as e:\n",
    "      print(f\"Erro ao baixar arquivo {ano}.zip\")\n",
    "      print(e)\n",
    "  "
   ]
  }
 ],
 "metadata": {
  "application/vnd.databricks.v1+notebook": {
   "computePreferences": null,
   "dashboards": [],
   "environmentMetadata": {
    "base_environment": "",
    "environment_version": "3"
   },
   "inputWidgetPreferences": null,
   "language": "python",
   "notebookMetadata": {
    "pythonIndentUnit": 4
   },
   "notebookName": "nb_bronze_baixa_arquivos",
   "widgets": {}
  },
  "language_info": {
   "name": "python"
  }
 },
 "nbformat": 4,
 "nbformat_minor": 0
}
