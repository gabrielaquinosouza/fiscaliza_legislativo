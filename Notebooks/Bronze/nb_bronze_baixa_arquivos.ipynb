{
 "cells": [
  {
   "cell_type": "code",
   "execution_count": 0,
   "metadata": {
    "application/vnd.databricks.v1+cell": {
     "cellMetadata": {
      "byteLimit": 2048000,
      "rowLimit": 10000
     },
     "inputWidgets": {},
     "nuid": "5a848883-6409-4d29-b3d3-e04ac15884cc",
     "showTitle": false,
     "tableResultSettingsMap": {},
     "title": ""
    }
   },
   "outputs": [],
   "source": [
    "from datetime import datetime\n",
    "import urllib.request\n",
    "import zipfile"
   ]
  },
  {
   "cell_type": "code",
   "execution_count": 0,
   "metadata": {
    "application/vnd.databricks.v1+cell": {
     "cellMetadata": {
      "byteLimit": 2048000,
      "rowLimit": 10000
     },
     "inputWidgets": {},
     "nuid": "a4e4e374-a8e7-43ff-83a1-55ac6733f356",
     "showTitle": false,
     "tableResultSettingsMap": {},
     "title": ""
    }
   },
   "outputs": [],
   "source": [
    "# Catálogo databricks camada bronze\n",
    "\n",
    "catalogo =  \"fiscaliza_legislativo\"\n",
    "schema = \"bronze\"\n",
    "volume = \"arquivos\"\n",
    "volumeTemp = \"tmp\"\n",
    "diretorio = \"despesas_deputados\"\n",
    "anoInicio = 2020\n",
    "anoAtual = int(datetime.now().year)\n",
    "\n",
    "PATH_VOLUME = f\"/Volumes/{catalogo}/{schema}/{volume}/{diretorio}\"\n",
    "PATH_TEMP_VOLUME = f\"/Volumes/{catalogo}/{schema}/{volumeTemp}\""
   ]
  },
  {
   "cell_type": "markdown",
   "metadata": {
    "application/vnd.databricks.v1+cell": {
     "cellMetadata": {
      "byteLimit": 2048000,
      "rowLimit": 10000
     },
     "inputWidgets": {},
     "nuid": "b422361e-e37b-4483-9b45-37b27cd87987",
     "showTitle": false,
     "tableResultSettingsMap": {},
     "title": ""
    }
   },
   "source": [
    "# Inicia execução"
   ]
  },
  {
   "cell_type": "code",
   "execution_count": 0,
   "metadata": {
    "application/vnd.databricks.v1+cell": {
     "cellMetadata": {
      "byteLimit": 2048000,
      "rowLimit": 10000
     },
     "inputWidgets": {},
     "nuid": "571f77fe-8399-43f9-bb0c-025f8f2dd9f8",
     "showTitle": false,
     "tableResultSettingsMap": {},
     "title": ""
    }
   },
   "outputs": [],
   "source": [
    "\n",
    "TInicio = datetime.now()\n",
    "print(TInicio)"
   ]
  },
  {
   "cell_type": "markdown",
   "metadata": {
    "application/vnd.databricks.v1+cell": {
     "cellMetadata": {
      "byteLimit": 2048000,
      "rowLimit": 10000
     },
     "inputWidgets": {},
     "nuid": "2122beed-fe0e-49b5-b9ca-68c026056c71",
     "showTitle": false,
     "tableResultSettingsMap": {},
     "title": ""
    }
   },
   "source": [
    "## Criação de Esquema e Volume"
   ]
  },
  {
   "cell_type": "code",
   "execution_count": 0,
   "metadata": {
    "application/vnd.databricks.v1+cell": {
     "cellMetadata": {
      "byteLimit": 2048000,
      "rowLimit": 10000
     },
     "inputWidgets": {},
     "nuid": "ccc6cd18-c22e-4c3b-870f-ac4aaaa56501",
     "showTitle": false,
     "tableResultSettingsMap": {},
     "title": ""
    }
   },
   "outputs": [],
   "source": [
    "# Cria Schema Bronze\n",
    "\n",
    "SQL =  f\"\"\"\n",
    "CREATE SCHEMA IF NOT EXISTS {catalogo}.{schema}\n",
    "\"\"\"\n",
    "spark.sql(SQL)"
   ]
  },
  {
   "cell_type": "code",
   "execution_count": 0,
   "metadata": {
    "application/vnd.databricks.v1+cell": {
     "cellMetadata": {
      "byteLimit": 2048000,
      "rowLimit": 10000
     },
     "inputWidgets": {},
     "nuid": "59668fd6-e9fa-4a5f-955a-0da004da2520",
     "showTitle": false,
     "tableResultSettingsMap": {},
     "title": ""
    }
   },
   "outputs": [],
   "source": [
    "# Cria Volume arquivos\n",
    "\n",
    "SQL =  f\"\"\"\n",
    "CREATE VOLUME IF NOT EXISTS {catalogo}.{schema}.{volume}\n",
    "\"\"\"\n",
    "spark.sql(SQL)"
   ]
  },
  {
   "cell_type": "code",
   "execution_count": 0,
   "metadata": {
    "application/vnd.databricks.v1+cell": {
     "cellMetadata": {
      "byteLimit": 2048000,
      "rowLimit": 10000
     },
     "inputWidgets": {},
     "nuid": "26da5f0a-50a8-4e18-b88e-20f4c52c0976",
     "showTitle": false,
     "tableResultSettingsMap": {},
     "title": ""
    }
   },
   "outputs": [],
   "source": [
    "# Cria diretorio despesas_deputados\n",
    "\n",
    "dbutils.fs.mkdirs(PATH_VOLUME)"
   ]
  },
  {
   "cell_type": "markdown",
   "metadata": {
    "application/vnd.databricks.v1+cell": {
     "cellMetadata": {
      "byteLimit": 2048000,
      "rowLimit": 10000
     },
     "inputWidgets": {},
     "nuid": "7f09ff86-597e-4400-9c20-cb44e6735690",
     "showTitle": false,
     "tableResultSettingsMap": {},
     "title": ""
    }
   },
   "source": [
    "## Cria Volume tmp"
   ]
  },
  {
   "cell_type": "code",
   "execution_count": 0,
   "metadata": {
    "application/vnd.databricks.v1+cell": {
     "cellMetadata": {
      "byteLimit": 2048000,
      "rowLimit": 10000
     },
     "inputWidgets": {},
     "nuid": "7c8ed842-1106-4d13-a3a1-14bef78018ff",
     "showTitle": false,
     "tableResultSettingsMap": {},
     "title": ""
    }
   },
   "outputs": [],
   "source": [
    "# Cria Volume tmp  para salvar arquivos temporarios\n",
    "\n",
    "SQL =  f\"\"\"\n",
    "CREATE VOLUME IF NOT EXISTS {catalogo}.{schema}.{volumeTemp}\n",
    "\"\"\"\n",
    "spark.sql(SQL)"
   ]
  },
  {
   "cell_type": "markdown",
   "metadata": {
    "application/vnd.databricks.v1+cell": {
     "cellMetadata": {
      "byteLimit": 2048000,
      "rowLimit": 10000
     },
     "inputWidgets": {},
     "nuid": "5c608a03-c637-488b-90f0-500394aa9860",
     "showTitle": false,
     "tableResultSettingsMap": {},
     "title": ""
    }
   },
   "source": [
    "### Lista Arquivos do Volume"
   ]
  },
  {
   "cell_type": "code",
   "execution_count": 0,
   "metadata": {
    "application/vnd.databricks.v1+cell": {
     "cellMetadata": {
      "byteLimit": 2048000,
      "rowLimit": 10000
     },
     "inputWidgets": {},
     "nuid": "cb3d63a4-a686-453b-b5a3-82ae47afa9c8",
     "showTitle": false,
     "tableResultSettingsMap": {},
     "title": ""
    }
   },
   "outputs": [],
   "source": [
    "# Lista Arquivos da pasta despesas_deputados\n",
    "\n",
    "info_arquivos = dbutils.fs.ls(PATH_VOLUME)\n",
    "arquivos = [arquivo.name for arquivo in info_arquivos]"
   ]
  },
  {
   "cell_type": "markdown",
   "metadata": {
    "application/vnd.databricks.v1+cell": {
     "cellMetadata": {
      "byteLimit": 2048000,
      "rowLimit": 10000
     },
     "inputWidgets": {},
     "nuid": "69220efc-d6d6-4f23-9ccf-09ddfc43a5e6",
     "showTitle": false,
     "tableResultSettingsMap": {},
     "title": ""
    }
   },
   "source": [
    "## Baixa Arquivos"
   ]
  },
  {
   "cell_type": "code",
   "execution_count": 0,
   "metadata": {
    "application/vnd.databricks.v1+cell": {
     "cellMetadata": {
      "byteLimit": 2048000,
      "rowLimit": 10000
     },
     "inputWidgets": {},
     "nuid": "7bc71610-7914-4827-976a-d438ded05cc7",
     "showTitle": false,
     "tableResultSettingsMap": {},
     "title": ""
    }
   },
   "outputs": [],
   "source": [
    "# Baixa apenas arquivos que ainda não estão no volume,e atualiza o arquivo do ano atual\n",
    "\n",
    "for ano in range(anoInicio, anoAtual+1):\n",
    "  url = f\"https://www.camara.leg.br/cotas/Ano-{ano}.xml.zip\"\n",
    "  path_destino = f\"{PATH_TEMP_VOLUME}/{ano}.zip\"\n",
    "\n",
    "  if f\"Ano-{ano}.xml\" not in arquivos or ano == anoAtual:\n",
    "    print(f\"Baixando arquivo {ano}.zip\")\n",
    "    try:\n",
    "       urllib.request.urlretrieve(url, path_destino)\n",
    "       print(f\"Download concluído com sucesso: {path_destino}\")\n",
    "    except Exception as e:\n",
    "      print(f\"Erro ao baixar arquivo {ano}.zip\")\n",
    "      print(e)\n",
    "  "
   ]
  },
  {
   "cell_type": "markdown",
   "metadata": {
    "application/vnd.databricks.v1+cell": {
     "cellMetadata": {
      "byteLimit": 2048000,
      "rowLimit": 10000
     },
     "inputWidgets": {},
     "nuid": "077c1b45-594f-4941-85f0-96edf66db033",
     "showTitle": false,
     "tableResultSettingsMap": {},
     "title": ""
    }
   },
   "source": [
    "## Extrai Arquivos ZIP"
   ]
  },
  {
   "cell_type": "code",
   "execution_count": 0,
   "metadata": {
    "application/vnd.databricks.v1+cell": {
     "cellMetadata": {
      "byteLimit": 2048000,
      "rowLimit": 10000
     },
     "inputWidgets": {},
     "nuid": "96a91cee-cc47-4e59-9078-5d2e91c7eb12",
     "showTitle": false,
     "tableResultSettingsMap": {},
     "title": ""
    }
   },
   "outputs": [],
   "source": [
    "# Lista Arquivos da pasta temp\n",
    "\n",
    "info_arquivos_temp = dbutils.fs.ls(PATH_TEMP_VOLUME)\n",
    "arquivos_temp = [arquivo.path.replace(\"dbfs:\", \"\") for arquivo in info_arquivos_temp]"
   ]
  },
  {
   "cell_type": "code",
   "execution_count": 0,
   "metadata": {
    "application/vnd.databricks.v1+cell": {
     "cellMetadata": {
      "byteLimit": 2048000,
      "rowLimit": 10000
     },
     "inputWidgets": {},
     "nuid": "5b04b004-6402-4e74-a5c9-93f4fbb4683f",
     "showTitle": false,
     "tableResultSettingsMap": {},
     "title": ""
    }
   },
   "outputs": [],
   "source": [
    "# Extrai todos os arquivos da pasta tmp no volume despesas_deputados\n",
    "\n",
    "for arquivo_zip in arquivos_temp:\n",
    "  with zipfile.ZipFile(arquivo_zip, 'r') as zip:\n",
    "    zip.extractall(PATH_VOLUME)"
   ]
  },
  {
   "cell_type": "markdown",
   "metadata": {
    "application/vnd.databricks.v1+cell": {
     "cellMetadata": {
      "byteLimit": 2048000,
      "rowLimit": 10000
     },
     "inputWidgets": {},
     "nuid": "10493727-49b0-4d43-be55-bc5e9150477c",
     "showTitle": false,
     "tableResultSettingsMap": {},
     "title": ""
    }
   },
   "source": [
    "## Remove Arquivos Temporarios"
   ]
  },
  {
   "cell_type": "code",
   "execution_count": 0,
   "metadata": {
    "application/vnd.databricks.v1+cell": {
     "cellMetadata": {
      "byteLimit": 2048000,
      "rowLimit": 10000
     },
     "inputWidgets": {},
     "nuid": "3061f98c-f877-4e0d-9a49-cec3ecdf1fd8",
     "showTitle": false,
     "tableResultSettingsMap": {},
     "title": ""
    }
   },
   "outputs": [],
   "source": [
    "\n",
    "# Remove todos os arquivos da pasta tmp\n",
    "\n",
    "dbutils.fs.rm(PATH_TEMP_VOLUME, recurse=True)"
   ]
  },
  {
   "cell_type": "code",
   "execution_count": 0,
   "metadata": {
    "application/vnd.databricks.v1+cell": {
     "cellMetadata": {
      "byteLimit": 2048000,
      "rowLimit": 10000
     },
     "inputWidgets": {},
     "nuid": "f9a600e6-4727-4bf6-a93e-d1d034da082b",
     "showTitle": false,
     "tableResultSettingsMap": {},
     "title": ""
    }
   },
   "outputs": [],
   "source": [
    "TFim = datetime.now()\n",
    "print(TFim)\n",
    "print(\"Duração:\", TFim - TInicio)"
   ]
  }
 ],
 "metadata": {
  "application/vnd.databricks.v1+notebook": {
   "computePreferences": null,
   "dashboards": [],
   "environmentMetadata": {
    "base_environment": "",
    "environment_version": "3"
   },
   "inputWidgetPreferences": null,
   "language": "python",
   "notebookMetadata": {
    "pythonIndentUnit": 4
   },
   "notebookName": "nb_bronze_baixa_arquivos",
   "widgets": {}
  },
  "language_info": {
   "name": "python"
  }
 },
 "nbformat": 4,
 "nbformat_minor": 0
}
